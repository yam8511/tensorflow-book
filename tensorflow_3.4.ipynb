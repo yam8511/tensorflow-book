{
 "metadata": {
  "language_info": {
   "codemirror_mode": {
    "name": "ipython",
    "version": 3
   },
   "file_extension": ".py",
   "mimetype": "text/x-python",
   "name": "python",
   "nbconvert_exporter": "python",
   "pygments_lexer": "ipython3",
   "version": "3.5.6-final"
  },
  "orig_nbformat": 2,
  "kernelspec": {
   "name": "python3",
   "display_name": "Python 3"
  }
 },
 "nbformat": 4,
 "nbformat_minor": 2,
 "cells": [
  {
   "cell_type": "markdown",
   "metadata": {},
   "source": [
    "# Session and Saver\n",
    "\n",
    "`Session` 每次都是獨立的，所以需要把 `Session` 的資料保存下來，就使用 `Saver` 吧"
   ]
  },
  {
   "cell_type": "code",
   "execution_count": 1,
   "metadata": {
    "tags": []
   },
   "outputs": [
    {
     "output_type": "stream",
     "name": "stdout",
     "text": "第一次 b =  2\n第一次 b =  3\n-- 新Session --\n第一次 b =  2\n第一次 b =  3\n"
    }
   ],
   "source": [
    "import tensorflow as tf\n",
    "\n",
    "a = tf.Variable(1, name='a')\n",
    "b = tf.assign(a, a + 1)\n",
    "\n",
    "with tf.Session() as sess:\n",
    "    sess.run(tf.global_variables_initializer())\n",
    "    print('第一次 b = ', sess.run(b))\n",
    "    print('第一次 b = ', sess.run(b))\n",
    "\n",
    "with tf.Session() as sess:\n",
    "    sess.run(tf.global_variables_initializer())\n",
    "    print('-- 新Session --')\n",
    "    print('第一次 b = ', sess.run(b))\n",
    "    print('第一次 b = ', sess.run(b))"
   ]
  },
  {
   "cell_type": "code",
   "execution_count": 2,
   "metadata": {
    "tags": []
   },
   "outputs": [
    {
     "output_type": "stream",
     "name": "stdout",
     "text": "2\n3\nINFO:tensorflow:Restoring parameters from model/model.ckpt\n4\n5\n"
    }
   ],
   "source": [
    "saver = tf.train.Saver()\n",
    "with tf.Session() as sess:\n",
    "    sess.run(tf.global_variables_initializer())\n",
    "    print(sess.run(b))\n",
    "    print(sess.run(b))\n",
    "    # 將變數值儲存為 model/model.ckpt\n",
    "    saver.save(sess, 'model/model.ckpt')\n",
    "\n",
    "# Saver\n",
    "saver = tf.train.Saver()\n",
    "with tf.Session() as sess:\n",
    "    sess.run(tf.global_variables_initializer())\n",
    "    # 從 model/model.ckpt 還原變數值\n",
    "    saver.restore(sess, save_path='model/model.ckpt')\n",
    "    print(sess.run(b))\n",
    "    print(sess.run(b))"
   ]
  }
 ]
}