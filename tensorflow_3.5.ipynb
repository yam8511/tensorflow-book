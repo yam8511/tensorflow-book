{
 "metadata": {
  "language_info": {
   "codemirror_mode": {
    "name": "ipython",
    "version": 3
   },
   "file_extension": ".py",
   "mimetype": "text/x-python",
   "name": "python",
   "nbconvert_exporter": "python",
   "pygments_lexer": "ipython3",
   "version": "3.5.6-final"
  },
  "orig_nbformat": 2,
  "kernelspec": {
   "name": "python3",
   "display_name": "Python 3"
  }
 },
 "nbformat": 4,
 "nbformat_minor": 2,
 "cells": [
  {
   "cell_type": "markdown",
   "metadata": {},
   "source": [
    "# TensorBoard - TensorFlow圖表\n",
    "\n",
    "視覺化"
   ]
  },
  {
   "cell_type": "code",
   "execution_count": 1,
   "metadata": {},
   "outputs": [],
   "source": [
    "import tensorflow as tf\n",
    "\n",
    "LOG_DIR = \"./logs\"\n",
    "\n",
    "a = tf.constant(1, name='a')\n",
    "b = tf.constant(1, name='b')\n",
    "c = a + b\n",
    "\n",
    "graph = tf.get_default_graph()\n",
    "with tf.summary.FileWriter(LOG_DIR) as writer:\n",
    "    writer.add_graph(graph)"
   ]
  },
  {
   "cell_type": "markdown",
   "metadata": {},
   "source": [
    "會把圖檔存在 `./logs` 資料夾內  \n",
    "然後在終端機執行以下指令，查看 `資料流程圖`  \n",
    "```shell\n",
    "> tensorboard --logdir=logs\n",
    "```"
   ]
  }
 ]
}