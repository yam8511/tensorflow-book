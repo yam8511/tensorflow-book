{
 "cells": [
  {
   "cell_type": "code",
   "execution_count": 1,
   "metadata": {
    "tags": []
   },
   "outputs": [
    {
     "output_type": "stream",
     "name": "stdout",
     "text": "1.5.0\n"
    }
   ],
   "source": [
    "import tensorflow as tf\n",
    "print(tf.__version__)"
   ]
  },
  {
   "cell_type": "code",
   "execution_count": 2,
   "metadata": {
    "tags": []
   },
   "outputs": [],
   "source": [
    "# a = tf.Variable(1, name='a')\n",
    "# a = tf.placeholder(dtype=tf.int32, name='a')\n",
    "a = tf.constant(2, name='a')\n",
    "b = tf.constant(3, name='b')\n",
    "c = tf.add(a, b)\n",
    "d = tf.multiply(a, b)"
   ]
  },
  {
   "cell_type": "code",
   "execution_count": 3,
   "metadata": {
    "tags": []
   },
   "outputs": [
    {
     "output_type": "stream",
     "name": "stdout",
     "text": "a + b = 5\na * b = 6\n"
    }
   ],
   "source": [
    "with tf.Session() as sess:\n",
    "  # sess.run(tf.global_variables_initializer())\n",
    "  # print('第一次: [c, a] =', sess.run([c, a]))\n",
    "  # print('第二次: [c, a] =', sess.run([c, a]))\n",
    "  # print('第三次: [c, a] =', sess.run([c, a]))\n",
    "  # print('a + b =', sess.run(c, feed_dict={a: 1}))\n",
    "  print('a + b =', sess.run(c))\n",
    "  print('a * b =', sess.run(d))\n"
   ]
  }
 ],
 "metadata": {
  "kernelspec": {
   "display_name": "Python 3.5.6 64-bit",
   "language": "python",
   "name": "python_defaultSpec_1595224056187"
  },
  "language_info": {
   "codemirror_mode": {
    "name": "ipython",
    "version": 3
   },
   "file_extension": ".py",
   "mimetype": "text/x-python",
   "name": "python",
   "nbconvert_exporter": "python",
   "pygments_lexer": "ipython3",
   "version": "3.5.6-final"
  }
 },
 "nbformat": 4,
 "nbformat_minor": 4
}