{
 "metadata": {
  "language_info": {
   "codemirror_mode": {
    "name": "ipython",
    "version": 3
   },
   "file_extension": ".py",
   "mimetype": "text/x-python",
   "name": "python",
   "nbconvert_exporter": "python",
   "pygments_lexer": "ipython3",
   "version": "3.5.6-final"
  },
  "orig_nbformat": 2,
  "kernelspec": {
   "name": "python3",
   "display_name": "Python 3"
  }
 },
 "nbformat": 4,
 "nbformat_minor": 2,
 "cells": [
  {
   "cell_type": "markdown",
   "metadata": {},
   "source": [
    "# 最佳化與梯度法\n",
    "\n",
    "*機器學習或深度學習的學習，指的是最小化、最佳化預測誤差的意思。*\n",
    "\n",
    "## 梯度法 (梯度下降法)\n",
    "\n",
    "梯度下降法步驟：\n",
    "\n",
    "1. 先以隨便的值初始化參數\n",
    "2. 在函數接收參數後，計算函數的斜率\n",
    "3. 讓參數慢慢往斜率最大的方向移動\n",
    "4. 重複2到3的步驟"
   ]
  },
  {
   "cell_type": "code",
   "execution_count": 1,
   "metadata": {
    "tags": []
   },
   "outputs": [
    {
     "output_type": "stream",
     "name": "stdout",
     "text": "x =  0.98847073\n"
    }
   ],
   "source": [
    "import tensorflow as tf\n",
    "\n",
    "# 將參數定義為變數\n",
    "x = tf.Variable(0., name='x')\n",
    "# 利用參數定義要計算最小值的函數\n",
    "func = (x - 1)**2\n",
    "\n",
    "# learning_rate 可決定參數的調整幅度\n",
    "optimizer = tf.train.GradientDescentOptimizer(learning_rate=0.1)\n",
    "# train_step 代表逐步調整x的操作\n",
    "train_step = optimizer.minimize(func)\n",
    "\n",
    "# 重複執行 train_step\n",
    "with tf.Session() as sess:\n",
    "    sess.run(tf.global_variables_initializer())\n",
    "    for i in range(20):\n",
    "        sess.run(train_step)\n",
    "    print('x = ', sess.run(x))"
   ]
  },
  {
   "cell_type": "markdown",
   "metadata": {},
   "source": [
    "## Boston house-prices 資料集 - 於機器學習套用梯度法"
   ]
  }
 ]
}