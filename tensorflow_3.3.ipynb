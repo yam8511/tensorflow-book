{
 "metadata": {
  "language_info": {
   "codemirror_mode": {
    "name": "ipython",
    "version": 3
   },
   "file_extension": ".py",
   "mimetype": "text/x-python",
   "name": "python",
   "nbconvert_exporter": "python",
   "pygments_lexer": "ipython3",
   "version": "3.5.6-final"
  },
  "orig_nbformat": 2,
  "kernelspec": {
   "name": "python3",
   "display_name": "Python 3"
  }
 },
 "nbformat": 4,
 "nbformat_minor": 2,
 "cells": [
  {
   "cell_type": "markdown",
   "metadata": {},
   "source": [
    "# 張量說明\n",
    "- 純量 | 維度: 0  | `1`\n",
    "- 向量 | 維度: 1  | `[1,2,3]`\n",
    "- 矩陣 | 維度: 2  | `[[1,2], [3,4]]`\n",
    "- 張量 | 維度: N  | `[[[1,2], [3,4]], ... ]`"
   ]
  },
  {
   "cell_type": "code",
   "execution_count": 1,
   "metadata": {
    "tags": []
   },
   "outputs": [
    {
     "output_type": "stream",
     "name": "stdout",
     "text": "1.5.0\n"
    }
   ],
   "source": [
    "import tensorflow as tf\n",
    "print(tf.__version__)"
   ]
  },
  {
   "cell_type": "markdown",
   "metadata": {},
   "source": [
    "## 向量運算"
   ]
  },
  {
   "cell_type": "code",
   "execution_count": 2,
   "metadata": {
    "tags": []
   },
   "outputs": [
    {
     "output_type": "stream",
     "name": "stdout",
     "text": "a + b =  [5 7 9]\n"
    }
   ],
   "source": [
    "a = tf.constant([1,2,3], name='a')\n",
    "b = tf.constant([4,5,6], name='b')\n",
    "c = a + b\n",
    "\n",
    "with tf.Session() as sess:\n",
    "    print('a + b = ', sess.run(c))"
   ]
  },
  {
   "cell_type": "markdown",
   "metadata": {},
   "source": [
    "## 矩陣運算"
   ]
  },
  {
   "cell_type": "code",
   "execution_count": 3,
   "metadata": {
    "tags": []
   },
   "outputs": [
    {
     "output_type": "stream",
     "name": "stdout",
     "text": "shape of a:  (2, 2)\nshape of b:  (2, 1)\nshape of c:  (2, 1)\na = \n [[1 2]\n [3 4]]\nb = \n [[1]\n [2]]\nc = \n [[ 5]\n [11]]\n"
    }
   ],
   "source": [
    "a = tf.constant([[1,2],[3,4]], name='a')\n",
    "b = tf.constant([[1],[2]], name='b')\n",
    "c = tf.matmul(a,b)\n",
    "\n",
    "print('shape of a: ', a.shape)\n",
    "print('shape of b: ', b.shape)\n",
    "print('shape of c: ', c.shape)\n",
    "\n",
    "with tf.Session() as sess:\n",
    "    print('a = \\n', sess.run(a))\n",
    "    print('b = \\n', sess.run(b))\n",
    "    print('c = \\n', sess.run(c))"
   ]
  },
  {
   "cell_type": "markdown",
   "metadata": {},
   "source": [
    "## 張量演算與佔位符\n",
    "\n",
    "tf.placeholder 佔位符接收張亮，必須指定 `shape` 參數  \n",
    "若張量大小尚未固定，可將 `shape` 指定為 `None`"
   ]
  },
  {
   "cell_type": "code",
   "execution_count": 3,
   "metadata": {
    "tags": []
   },
   "outputs": [
    {
     "output_type": "stream",
     "name": "stdout",
     "text": "--代入[[1,2]]--\na =  [[1 2]]\n--代入[[1,2], [3,4]]--\na =  [[1 2]\n [3 4]]\n"
    }
   ],
   "source": [
    "import tensorflow as tf\n",
    "a = tf.placeholder(shape=(None, 2), dtype=tf.int32, name='a')\n",
    "with tf.Session() as sess:\n",
    "    print('--代入[[1,2]]--')\n",
    "    print('a = ', sess.run(a, feed_dict={a: [[1,2]]}))\n",
    "    print('--代入[[1,2], [3,4]]--')\n",
    "    print('a = ', sess.run(a, feed_dict={a: [[1,2], [3,4]]}))"
   ]
  }
 ]
}