{
 "metadata": {
  "language_info": {
   "codemirror_mode": {
    "name": "ipython",
    "version": 3
   },
   "file_extension": ".py",
   "mimetype": "text/x-python",
   "name": "python",
   "nbconvert_exporter": "python",
   "pygments_lexer": "ipython3",
   "version": 3
  },
  "orig_nbformat": 2,
  "kernelspec": {
   "name": "python_defaultSpec_1595224036746",
   "display_name": "Python 3.5.6 64-bit"
  }
 },
 "nbformat": 4,
 "nbformat_minor": 2,
 "cells": [
  {
   "cell_type": "code",
   "execution_count": 1,
   "metadata": {
    "tags": []
   },
   "outputs": [
    {
     "output_type": "stream",
     "name": "stdout",
     "text": "1.5.0\n"
    }
   ],
   "source": [
    "import tensorflow as tf\n",
    "print(tf.__version__)"
   ]
  },
  {
   "cell_type": "code",
   "execution_count": 2,
   "metadata": {
    "tags": []
   },
   "outputs": [
    {
     "output_type": "stream",
     "name": "stdout",
     "text": "a + b =  [5 7 9]\n"
    }
   ],
   "source": [
    "a = tf.constant([1,2,3], name='a')\n",
    "b = tf.constant([4,5,6], name='b')\n",
    "c = a + b\n",
    "\n",
    "with tf.Session() as sess:\n",
    "    print('a + b = ', sess.run(c))"
   ]
  },
  {
   "cell_type": "code",
   "execution_count": 3,
   "metadata": {
    "tags": []
   },
   "outputs": [
    {
     "output_type": "stream",
     "name": "stdout",
     "text": "shape of a:  (2, 2)\nshape of b:  (2, 1)\nshape of c:  (2, 1)\na = \n [[1 2]\n [3 4]]\nb = \n [[1]\n [2]]\nc = \n [[ 5]\n [11]]\n"
    }
   ],
   "source": [
    "a = tf.constant([[1,2],[3,4]], name='a')\n",
    "b = tf.constant([[1],[2]], name='b')\n",
    "c = tf.matmul(a,b)\n",
    "\n",
    "print('shape of a: ', a.shape)\n",
    "print('shape of b: ', b.shape)\n",
    "print('shape of c: ', c.shape)\n",
    "\n",
    "with tf.Session() as sess:\n",
    "    print('a = \\n', sess.run(a))\n",
    "    print('b = \\n', sess.run(b))\n",
    "    print('c = \\n', sess.run(c))"
   ]
  }
 ]
}